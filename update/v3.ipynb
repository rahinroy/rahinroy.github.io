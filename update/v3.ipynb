{
 "cells": [
  {
   "attachments": {},
   "cell_type": "markdown",
   "metadata": {
    "slideshow": {
     "slide_type": "slide"
    }
   },
   "source": [
    "# Nihar \n",
    "# Annam\n",
    "\n",
    "<a href=\"https://www.twitter.com/RahinRoy\"><img src=\"twitter.png\" align=\"left\" style=\"width:6vw\"></img></a>\n",
    "<a href=\"https://www.instagram.com/nihar_annam/\"><img src=\"insta.png\" align=\"left\" style=\"width:6vw\"></img></a>\n",
    "<a href=\"mailto:nihar.annam@gmail.com\"><img src=\"email.png\" align=\"left\" style=\"width:6vw\"></img></a></p>\n",
    "\n",
    "\n",
    "\n"
   ]
  },
  {
   "cell_type": "markdown",
   "metadata": {
    "slideshow": {
     "slide_type": "slide"
    }
   },
   "source": [
    "# About Me"
   ]
  },
  {
   "cell_type": "markdown",
   "metadata": {
    "slideshow": {
     "slide_type": "fragment"
    }
   },
   "source": [
    "#### I'm an incoming senior at Plano West High School. Most of time is spent on debate, programming, and cooking. I also love to travel and try new foods, and help manage a food spreadsheet with some friends.\n"
   ]
  },
  {
   "cell_type": "markdown",
   "metadata": {
    "slideshow": {
     "slide_type": "subslide"
    }
   },
   "source": [
    "# Social Media\n",
    "\n",
    "#### [Twitter][1]\n",
    "\n",
    "#### [Gmail][2]\n",
    "\n",
    "#### [Insta][3]\n",
    "\n",
    "\n",
    "\n",
    "[1]: https://twitter.com/RahinRoy\n",
    "[2]: mailto:nihar.annam@gmail.com\n",
    "[3]: https://www.instagram.com/nihar_annam/\n"
   ]
  },
  {
   "cell_type": "markdown",
   "metadata": {
    "slideshow": {
     "slide_type": "slide"
    }
   },
   "source": [
    "# Leadership\n"
   ]
  },
  {
   "cell_type": "markdown",
   "metadata": {
    "slideshow": {
     "slide_type": "fragment"
    }
   },
   "source": [
    "#### this is all hs stuff"
   ]
  },
  {
   "cell_type": "markdown",
   "metadata": {
    "slideshow": {
     "slide_type": "subslide"
    }
   },
   "source": [
    "# [Be the Light Youth Association][1]\n",
    "\n",
    "\n",
    "[1]:https://www.bethelightyouth.org/"
   ]
  },
  {
   "cell_type": "markdown",
   "metadata": {
    "slideshow": {
     "slide_type": "fragment"
    }
   },
   "source": [
    "### Director/Instructor, August 2018 - Present\n",
    "\n",
    "#### Ran and taught at a 501(c)(3) nonprofit teaching elementary and middle school students speech and debate skills, raising over $75,000 for charity"
   ]
  }
 ],
 "metadata": {
  "celltoolbar": "Slideshow",
  "kernelspec": {
   "display_name": "Python 3",
   "language": "python",
   "name": "python3"
  },
  "language_info": {
   "codemirror_mode": {
    "name": "ipython",
    "version": 3
   },
   "file_extension": ".py",
   "mimetype": "text/x-python",
   "name": "python",
   "nbconvert_exporter": "python",
   "pygments_lexer": "ipython3",
   "version": "3.7.4"
  }
 },
 "nbformat": 4,
 "nbformat_minor": 2
}
