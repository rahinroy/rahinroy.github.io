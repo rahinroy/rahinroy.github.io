{
 "cells": [
  {
   "cell_type": "markdown",
   "metadata": {
    "slideshow": {
     "slide_type": "slide"
    }
   },
   "source": [
    "# Nihar \n",
    "# Annam\n",
    "\n",
    "<a href=\"https://www.twitter.com/RahinRoy\"><img src=\"twitter.png\" align=\"left\" style=\"width:6vw\"></img></a>\n",
    "<a href=\"https://www.instagram.com/nihar_annam/\"><img src=\"insta.png\" align=\"left\" style=\"width:6vw\"></img></a>\n",
    "<a href=\"mailto:nihar.annam@gmail.com\"><img src=\"email.png\" align=\"left\" style=\"width:6vw\"></img></a>\n",
    "<a href=\"https://github.com/rahinroy\"><img src=\"github.png\" align=\"left\" style=\"width:6vw\"></img></a>\n",
    "\n",
    "\n",
    "\n"
   ]
  },
  {
   "cell_type": "markdown",
   "metadata": {
    "slideshow": {
     "slide_type": "slide"
    }
   },
   "source": [
    "## About Me"
   ]
  },
  {
   "cell_type": "markdown",
   "metadata": {
    "slideshow": {
     "slide_type": "fragment"
    }
   },
   "source": [
    "I'm an incoming freshman studying Computer Science at the University of Texas at Austin. Most of my free time is spent on cooking, photography, and various data science projects. I love to try new foods and help manage a <a href=\"http://bit.ly/FoodSheet\">food spreadsheet</a> with some friends. \n"
   ]
  },
  {
   "cell_type": "markdown",
   "metadata": {
    "slideshow": {
     "slide_type": "slide"
    }
   },
   "source": [
    "## Leadership\n"
   ]
  },
  {
   "cell_type": "markdown",
   "metadata": {
    "slideshow": {
     "slide_type": "subslide"
    }
   },
   "source": [
    "## [Be the Light Youth Association][1]\n",
    "\n",
    "\n",
    "[1]:https://www.bethelightyouth.org/"
   ]
  },
  {
   "cell_type": "markdown",
   "metadata": {
    "slideshow": {
     "slide_type": "fragment"
    }
   },
   "source": [
    "### Director/Instructor, August 2018 - Present\n",
    "\n",
    "Ran and taught at a 501(c)(3) nonprofit teaching elementary and middle school students speech and debate skills, raising over $75,000 for charity. Managed all technological aspects: maintaining the website, creating forms, processing payments"
   ]
  },
  {
   "cell_type": "markdown",
   "metadata": {
    "slideshow": {
     "slide_type": "subslide"
    }
   },
   "source": [
    "## Plano West Speech and Debate "
   ]
  },
  {
   "cell_type": "markdown",
   "metadata": {
    "slideshow": {
     "slide_type": "fragment"
    }
   },
   "source": [
    "### Debate Captain\n",
    "\n",
    "I taught high level speaking, argumentation, research and critical thinking skills to over 50 students from multiple schools, helping tranform Plano West into one of the top 10 speech and debate schools in the nation. As a debator, I was ranked in the top 30 in the nation in Public Forum Debate, consistently placing highly at the state and national level.  \n"
   ]
  },
  {
   "cell_type": "markdown",
   "metadata": {
    "slideshow": {
     "slide_type": "slide"
    }
   },
   "source": [
    "## Awards / Achievements"
   ]
  },
  {
   "cell_type": "markdown",
   "metadata": {
    "slideshow": {
     "slide_type": "subslide"
    }
   },
   "source": [
    "## Debate"
   ]
  },
  {
   "cell_type": "markdown",
   "metadata": {
    "slideshow": {
     "slide_type": "fragment"
    }
   },
   "source": [
    "### Public Forum Debate (9th - 12th grade)\n",
    "\n",
    "\n",
    "* 2-time Tournament of Champions Qualifier\n",
    "* 3-time Texas Forensics Association State Tournament Qualifier\n",
    "* Semifinalist - 46th Annual Harvard National Forensics Tournament \n",
    "* Champion - Capitol City Round Robin\n",
    "* Premier Distinction - National Speech and Debate Association"
   ]
  },
  {
   "cell_type": "markdown",
   "metadata": {
    "slideshow": {
     "slide_type": "subslide"
    }
   },
   "source": [
    "## Computer Science"
   ]
  },
  {
   "cell_type": "markdown",
   "metadata": {
    "slideshow": {
     "slide_type": "fragment"
    }
   },
   "source": [
    "* Top 25 (3%) U.S. / Top 75 (1.7%) International - Credit Suisse Collegiate Global Coding Competition\n",
    "* USACO - Silver Division"
   ]
  }
 ],
 "metadata": {
  "celltoolbar": "Slideshow",
  "kernelspec": {
   "display_name": "Python 3",
   "language": "python",
   "name": "python3"
  },
  "language_info": {
   "codemirror_mode": {
    "name": "ipython",
    "version": 3
   },
   "file_extension": ".py",
   "mimetype": "text/x-python",
   "name": "python",
   "nbconvert_exporter": "python",
   "pygments_lexer": "ipython3",
   "version": "3.7.4"
  }
 },
 "nbformat": 4,
 "nbformat_minor": 2
}
